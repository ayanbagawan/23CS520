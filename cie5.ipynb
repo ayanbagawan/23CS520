{
  "nbformat": 4,
  "nbformat_minor": 0,
  "metadata": {
    "colab": {
      "private_outputs": true,
      "provenance": [],
      "authorship_tag": "ABX9TyOoLq1P8ZtqLXXdpf7qZreK",
      "include_colab_link": true
    },
    "kernelspec": {
      "name": "python3",
      "display_name": "Python 3"
    },
    "language_info": {
      "name": "python"
    }
  },
  "cells": [
    {
      "cell_type": "markdown",
      "metadata": {
        "id": "view-in-github",
        "colab_type": "text"
      },
      "source": [
        "<a href=\"https://colab.research.google.com/github/ayanbagawan/23CS520/blob/main/cie5.ipynb\" target=\"_parent\"><img src=\"https://colab.research.google.com/assets/colab-badge.svg\" alt=\"Open In Colab\"/></a>"
      ]
    },
    {
      "cell_type": "code",
      "source": [
        "import spacy\n",
        "from nltk import ngrams\n",
        "nlp = spacy.load(\"en_core_web_sm\")\n",
        "doc = nlp(\"AL IS SIMULATION OF HUMAN INTELLIGENCE BY MACHINE.IT INCLUDES EXPECTS SYSTEM NLP SPEECH RECOGNITION AND MACHINE VISION\")\n",
        "triigrams = ngrams(doc, 3)\n",
        "for triigram in triigrams:\n",
        "    print(triigram)"
      ],
      "metadata": {
        "id": "WcS7nSdxg7fy"
      },
      "execution_count": null,
      "outputs": []
    },
    {
      "cell_type": "code",
      "source": [
        "import spacy\n",
        "from nltk import ngrams\n",
        "nlp = spacy.load(\"en_core_web_sm\")\n",
        "doc = nlp(\"AL IS SIMULATION OF HUMAN INTELLIGENCE BY MACHINE.IT INCLUDES EXPECTS SYSTEM NLP SPEECH RECOGNITION AND MACHINE VISION\")\n",
        "bigrams = ngrams(doc, 2)\n",
        "for bigram in bigrams:\n",
        "    print(bigram)"
      ],
      "metadata": {
        "id": "oU51160fg-JK"
      },
      "execution_count": null,
      "outputs": []
    }
  ]
}