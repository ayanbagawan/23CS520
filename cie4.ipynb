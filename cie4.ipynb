{
  "nbformat": 4,
  "nbformat_minor": 0,
  "metadata": {
    "colab": {
      "private_outputs": true,
      "provenance": [],
      "authorship_tag": "ABX9TyMmduL6UxwlyMZx4TRC3lhB",
      "include_colab_link": true
    },
    "kernelspec": {
      "name": "python3",
      "display_name": "Python 3"
    },
    "language_info": {
      "name": "python"
    }
  },
  "cells": [
    {
      "cell_type": "markdown",
      "metadata": {
        "id": "view-in-github",
        "colab_type": "text"
      },
      "source": [
        "<a href=\"https://colab.research.google.com/github/ayanbagawan/23CS520/blob/main/cie4.ipynb\" target=\"_parent\"><img src=\"https://colab.research.google.com/assets/colab-badge.svg\" alt=\"Open In Colab\"/></a>"
      ]
    },
    {
      "cell_type": "code",
      "execution_count": null,
      "metadata": {
        "id": "K5OkHNtN8eO5"
      },
      "outputs": [],
      "source": [
        "import pandas as pd\n",
        "from sklearn.model_selection import train_test_split\n",
        "from sklearn.metrics import mean_squared_error\n",
        "from sklearn.ensemble import RandomForestRegressor\n",
        "import xgboost as xgb\n",
        "from sklearn.linear_model import LinearRegression\n",
        "df=pd.read_csv('/content/train_with_target.csv')\n",
        "df"
      ]
    },
    {
      "cell_type": "code",
      "source": [
        "target=df['target']"
      ],
      "metadata": {
        "id": "9vEXTquK9umD"
      },
      "execution_count": null,
      "outputs": []
    },
    {
      "cell_type": "code",
      "source": [
        "train=df.drop('target',axis=1)"
      ],
      "metadata": {
        "id": "r6LpmrU6Erz3"
      },
      "execution_count": null,
      "outputs": []
    },
    {
      "cell_type": "code",
      "source": [
        "x_train,x_test,y_train,y_test=train_test_split(train,target,test_size=0.20)"
      ],
      "metadata": {
        "id": "ad1Mg08bEvBd"
      },
      "execution_count": null,
      "outputs": []
    },
    {
      "cell_type": "code",
      "source": [
        "x_train"
      ],
      "metadata": {
        "id": "0wx8K6LFExFY"
      },
      "execution_count": null,
      "outputs": []
    },
    {
      "cell_type": "code",
      "source": [
        "x_test"
      ],
      "metadata": {
        "id": "RXQ1iBKEEzMG"
      },
      "execution_count": null,
      "outputs": []
    },
    {
      "cell_type": "code",
      "source": [
        "y_train"
      ],
      "metadata": {
        "id": "v6G_oEMXE1Y_"
      },
      "execution_count": null,
      "outputs": []
    },
    {
      "cell_type": "code",
      "source": [
        "y_test"
      ],
      "metadata": {
        "id": "aOKY982IE3Mu"
      },
      "execution_count": null,
      "outputs": []
    },
    {
      "cell_type": "code",
      "source": [
        "model_1=LinearRegression()\n",
        "model_2=xgb.XGBRegressor()\n",
        "model_3=RandomForestRegressor()"
      ],
      "metadata": {
        "id": "kiJC6APDE5tO"
      },
      "execution_count": null,
      "outputs": []
    },
    {
      "cell_type": "code",
      "source": [
        "x_train = x_train.fillna(x_train.mean())\n",
        "x_test = x_test.fillna(x_test.mean())\n",
        "\n",
        "model_1.fit(x_train, y_train)\n",
        "model_2.fit(x_train, y_train)\n",
        "model_3.fit(x_train, y_train)"
      ],
      "metadata": {
        "id": "Isvtiwj2FSbY"
      },
      "execution_count": null,
      "outputs": []
    },
    {
      "cell_type": "code",
      "source": [
        "pred_1=model_1.predict(x_test)\n",
        "pred_2=model_2.predict(x_test)\n",
        "pred_3=model_3.predict(x_test)"
      ],
      "metadata": {
        "id": "h87E_h-WFJCY"
      },
      "execution_count": null,
      "outputs": []
    },
    {
      "cell_type": "code",
      "source": [
        "pred_final=(pred_1+pred_2+pred_3)/3.0"
      ],
      "metadata": {
        "id": "cfUN0K_mFK4e"
      },
      "execution_count": null,
      "outputs": []
    },
    {
      "cell_type": "code",
      "source": [
        "print(mean_squared_error(y_test,pred_final))"
      ],
      "metadata": {
        "id": "wDD_iOdiFMue"
      },
      "execution_count": null,
      "outputs": []
    }
  ]
}